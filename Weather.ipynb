{
 "cells": [
  {
   "cell_type": "code",
   "execution_count": 3,
   "id": "b9b98b7f",
   "metadata": {},
   "outputs": [],
   "source": [
    "from requests_html import HTMLSession"
   ]
  },
  {
   "cell_type": "code",
   "execution_count": 4,
   "id": "c002ff4e",
   "metadata": {},
   "outputs": [],
   "source": [
    "s = HTMLSession()"
   ]
  },
  {
   "cell_type": "code",
   "execution_count": 54,
   "id": "54cbef61",
   "metadata": {},
   "outputs": [],
   "source": [
    "query = 'Uasin Gishu'\n",
    "url= f'https://www.google.com/search?q=weather+{query}'\n",
    "\n",
    "#the request\n",
    "#the function of the headers is to get us past the bot quiz\n",
    "r = s.get(url, headers={'User-Agent':'Mozilla/5.0 (Windows NT 10.0; Win64; x64) AppleWebKit/537.36 (KHTML, like Gecko) Chrome/97.0.4692.71 Safari/537.36'})\n"
   ]
  },
  {
   "cell_type": "code",
   "execution_count": 55,
   "id": "95f57e9e",
   "metadata": {},
   "outputs": [
    {
     "name": "stdout",
     "output_type": "stream",
     "text": [
      "<Element 'h1' class=('Uo8X3b', 'OhScic', 'zsYMMe')>\n"
     ]
    }
   ],
   "source": [
    "print(r.html.find('h1', first=True))\n",
    "\n",
    "\n"
   ]
  },
  {
   "cell_type": "code",
   "execution_count": 56,
   "id": "aa602f26",
   "metadata": {},
   "outputs": [],
   "source": [
    "temp = r.html.find('span#wob_tm', first=True).text\n",
    "unit = r.html.find('div.vk_bk.wob-unit span.wob_t', first=True).text"
   ]
  },
  {
   "cell_type": "code",
   "execution_count": 57,
   "id": "db537191",
   "metadata": {},
   "outputs": [
    {
     "data": {
      "text/plain": [
       "'°C'"
      ]
     },
     "execution_count": 57,
     "metadata": {},
     "output_type": "execute_result"
    }
   ],
   "source": [
    "unit"
   ]
  },
  {
   "cell_type": "code",
   "execution_count": 58,
   "id": "b23a459e",
   "metadata": {},
   "outputs": [
    {
     "data": {
      "text/plain": [
       "'12'"
      ]
     },
     "execution_count": 58,
     "metadata": {},
     "output_type": "execute_result"
    }
   ],
   "source": [
    "temp"
   ]
  },
  {
   "cell_type": "code",
   "execution_count": 59,
   "id": "85b2fd91",
   "metadata": {},
   "outputs": [],
   "source": [
    "desc = r.html.find('div.VQF4g',first=True).find('span#wob_dc', first=True).text"
   ]
  },
  {
   "cell_type": "code",
   "execution_count": 60,
   "id": "7b11b504",
   "metadata": {},
   "outputs": [
    {
     "data": {
      "text/plain": [
       "['12', '°C', 'Sanasana mawingu']"
      ]
     },
     "execution_count": 60,
     "metadata": {},
     "output_type": "execute_result"
    }
   ],
   "source": [
    "weather = [temp, unit, desc]\n",
    "weather"
   ]
  },
  {
   "cell_type": "code",
   "execution_count": 61,
   "id": "534dcd9a",
   "metadata": {},
   "outputs": [
    {
     "name": "stdout",
     "output_type": "stream",
     "text": [
      "Uasin Gishu 12 °C Sanasana mawingu\n"
     ]
    }
   ],
   "source": [
    "print (query, temp, unit, desc)"
   ]
  },
  {
   "cell_type": "code",
   "execution_count": null,
   "id": "e49fb98f",
   "metadata": {},
   "outputs": [],
   "source": []
  }
 ],
 "metadata": {
  "kernelspec": {
   "display_name": "Python 3 (ipykernel)",
   "language": "python",
   "name": "python3"
  },
  "language_info": {
   "codemirror_mode": {
    "name": "ipython",
    "version": 3
   },
   "file_extension": ".py",
   "mimetype": "text/x-python",
   "name": "python",
   "nbconvert_exporter": "python",
   "pygments_lexer": "ipython3",
   "version": "3.9.5"
  }
 },
 "nbformat": 4,
 "nbformat_minor": 5
}
